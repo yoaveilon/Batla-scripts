{
 "cells": [
  {
   "cell_type": "code",
   "execution_count": 2,
   "metadata": {},
   "outputs": [],
   "source": [
    "import pandas as pd\n",
    "import numpy as np"
   ]
  },
  {
   "cell_type": "code",
   "execution_count": 3,
   "metadata": {},
   "outputs": [
    {
     "name": "stderr",
     "output_type": "stream",
     "text": [
      "C:\\Users\\yoave\\AppData\\Local\\Temp\\ipykernel_12492\\3675610163.py:1: DtypeWarning: Columns (6,7) have mixed types. Specify dtype option on import or set low_memory=False.\n",
      "  students = pd.read_csv(\"Data/Students data/students_processed.csv\")\n"
     ]
    }
   ],
   "source": [
    "students = pd.read_csv(\"Data/Students data/students_processed.csv\")\n",
    "batla = pd.read_csv(\"Output/BONUS_HASAM_202206235.csv\")"
   ]
  },
  {
   "cell_type": "code",
   "execution_count": 4,
   "metadata": {},
   "outputs": [],
   "source": [
    "df = pd.merge(batla, students, on=\"id\", how=\"left\")"
   ]
  },
  {
   "cell_type": "code",
   "execution_count": 5,
   "metadata": {},
   "outputs": [],
   "source": [
    "df = df.drop(columns=[\"end_date_1\",\"end_date_2\",\"end_date_3\",\"end_date_4\",\"end_date_5\",\"end_date_6\"])"
   ]
  },
  {
   "cell_type": "code",
   "execution_count": 6,
   "metadata": {},
   "outputs": [],
   "source": [
    "df[\"date\"] =  pd.to_datetime(df[\"date\"])\n",
    "df[\"end_date\"] =  pd.to_datetime(df[\"end_date\"])\n",
    "\n",
    "def inter(x):\n",
    "\n",
    "    if x[\"date\"].year == x[\"end_date\"].year and x[\"date\"].month == x[\"end_date\"].month:\n",
    "        return 1\n",
    "    else:\n",
    "        return 0\n",
    "\n",
    "df[\"intervention\"] = df.apply(inter, axis=1)"
   ]
  },
  {
   "cell_type": "code",
   "execution_count": 7,
   "metadata": {},
   "outputs": [],
   "source": [
    "## After merge with students\n",
    "\n",
    "### Index monthes before and after intervention\n",
    "df = df.sort_values(by=['id','date'], ascending=False)\n",
    "df['intervention_index_pre'] = df.groupby('id',group_keys=False)['intervention'].apply(lambda x: (x - x.cumsum()).where(x == 1, lambda x: x.cumsum()))\n",
    "\n",
    "df = df.sort_values(by=['id','date'], ascending=True)\n",
    "df['intervention_index_post'] = df.groupby('id',group_keys=False)['intervention'].apply(lambda x: (x - x.cumsum()).where(x == 1, lambda x: x.cumsum()))\n",
    "df[\"intervention_index_post\"] = df[\"intervention_index_post\"]*-1\n",
    "\n",
    "def intervention(x):\n",
    "    if x[\"intervention_index_pre\"] < 0:\n",
    "        return x[\"intervention_index_pre\"]\n",
    "    if x[\"intervention_index_pre\"] == 0:\n",
    "        return x[\"intervention_index_post\"]\n",
    "    else:\n",
    "        return 0\n",
    "\n",
    "df[\"intervention_index\"] = df.apply(intervention, axis=1)\n",
    "df= df.drop(columns=[\"intervention_index_pre\",\"intervention_index_post\",\"intervention\"])"
   ]
  },
  {
   "cell_type": "code",
   "execution_count": 14,
   "metadata": {},
   "outputs": [],
   "source": [
    "df = df.loc[(df[\"end_date\"]>=\"2000-01-01\")]"
   ]
  },
  {
   "cell_type": "code",
   "execution_count": 15,
   "metadata": {},
   "outputs": [],
   "source": [
    "df.to_csv(\"Output/merge_stud_batla.csv\", index=False)"
   ]
  }
 ],
 "metadata": {
  "kernelspec": {
   "display_name": "base",
   "language": "python",
   "name": "python3"
  },
  "language_info": {
   "codemirror_mode": {
    "name": "ipython",
    "version": 3
   },
   "file_extension": ".py",
   "mimetype": "text/x-python",
   "name": "python",
   "nbconvert_exporter": "python",
   "pygments_lexer": "ipython3",
   "version": "3.8.8 (default, Apr 13 2021, 15:08:03) [MSC v.1916 64 bit (AMD64)]"
  },
  "orig_nbformat": 4,
  "vscode": {
   "interpreter": {
    "hash": "21285703334ff9ad0485a20549414d39509d302abdef938bdec846b879f92609"
   }
  }
 },
 "nbformat": 4,
 "nbformat_minor": 2
}
