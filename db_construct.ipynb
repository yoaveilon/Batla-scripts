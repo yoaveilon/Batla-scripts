{
 "cells": [
  {
   "cell_type": "code",
   "execution_count": 2,
   "metadata": {},
   "outputs": [],
   "source": [
    "import pandas as pd\n",
    "import numpy as np\n",
    "import re\n",
    "\n",
    "import matplotlib as plt\n",
    "import seaborn as sns"
   ]
  },
  {
   "cell_type": "code",
   "execution_count": 1,
   "metadata": {},
   "outputs": [],
   "source": [
    "# Open the text file\n",
    "with open('Data/BONUS_HASAM_202206235.txt', 'r') as f:\n",
    "    # Read the lines of the file into a list\n",
    "    lines = f.readlines()"
   ]
  },
  {
   "cell_type": "code",
   "execution_count": 3,
   "metadata": {},
   "outputs": [],
   "source": [
    "## Data Structure\n",
    "## id = 9, fullname = 32, birth_date = 8, year = 4, zihui = 2, sug_isuk = 10, oved_dummy = 12,\n",
    "## wage = 10, employer_name = 32, tik_nikui = 9, sug_divuh = 1, anaf_calcali = 4\n",
    "\n",
    "# Create an empty list to store the data\n",
    "data = []\n",
    "\n",
    "# Iterate over the lines of the file\n",
    "for line in lines:\n",
    "    # Extract the first 10 characters and assign to id\n",
    "    id = line[:9]\n",
    "    full_name = line[9:41][::-1]\n",
    "    birth_date = line[41:49]\n",
    "    year = line[49:53]\n",
    "    zihui = line[53:54]\n",
    "    sug_isuk = line[54:64][::-1]\n",
    "    oved_dummy = line[64:76][::-1]\n",
    "    wage = line[76:86]\n",
    "    employer_name = line[86:118][::-1]\n",
    "    tik_nikui = line[118:127]\n",
    "    sug_divuh = line[127:128]\n",
    "\n",
    "    ## Append the data to the data list\n",
    "    data.append((id, full_name, birth_date,\n",
    "                 year, zihui, sug_isuk, oved_dummy,\n",
    "                 wage, employer_name,\n",
    "                 tik_nikui, sug_divuh))\n",
    "\n",
    "# Create a data frame from the data list\n",
    "df = pd.DataFrame(data, columns=['id', 'full_name', 'birth_date', 'year', 'zihui', 'sug_isuk', 'oved_dummy', 'wage', 'employer_name', 'tik_nikui', 'sug_divuh'])\n"
   ]
  },
  {
   "cell_type": "code",
   "execution_count": 4,
   "metadata": {},
   "outputs": [],
   "source": [
    "## Filter out strings with non numeric characters in the wage column like \"000000006K\"\n",
    "\n",
    "def filter_non_numeric_rows(column):\n",
    "    return [val for val in column if bool(re.search(r'[^\\d]', val))]\n",
    "    \n",
    "alphabet_list = list(filter_non_numeric_rows(df['wage']))\n",
    "\n",
    "df = df[~df['wage'].isin(alphabet_list)]"
   ]
  },
  {
   "cell_type": "code",
   "execution_count": 5,
   "metadata": {},
   "outputs": [],
   "source": [
    "## Data Types\n",
    "\n",
    "## dtypes dict\n",
    "dtypes = {'id': str,\n",
    "          'full_name': str,\n",
    "          'zihui':object,\n",
    "          'sug_isuk': object,\n",
    "          'oved_dummy': str,\n",
    "          'wage': float,\n",
    "          'employer_name': str,\n",
    "          'tik_nikui': int,\n",
    "          'sug_divuh': object,\n",
    "          }\n",
    "\n",
    "df = df.astype(dtypes)\n",
    "\n",
    "## year to datetime\n",
    "#df[\"year\"] = pd.to_datetime(df[\"year\"], format='%Y')"
   ]
  },
  {
   "cell_type": "code",
   "execution_count": 6,
   "metadata": {},
   "outputs": [],
   "source": [
    "# Duumies for employment months\n",
    "\n",
    "## Replace כ with 1\n",
    "df[\"oved_dummy\"]= df[\"oved_dummy\"].str.replace('כ', '1')\n",
    "df[\"oved_dummy\"]= df[\"oved_dummy\"].str.replace(' ', '0')\n",
    "\n",
    "\n",
    "month_cols = [\"drop1\",\"1\", \"2\", \"3\", \"4\", \"5\", \"6\", \"7\", \"8\", \"9\", \"10\", \"11\", \"12\",\"drop2\"]\n",
    "\n",
    "## Split every character in df[\"oved_dummie\"] to a new column\n",
    "df[month_cols] = df[\"oved_dummy\"].str.split(\"\",expand=True)\n",
    "\n",
    "## Drop the first and last columns\n",
    "df = df.drop(columns=[\"drop1\",\"drop2\"])\n",
    "## Drop from month_cols\n",
    "month_cols = month_cols[1:-1]\n",
    "\n",
    "for col in month_cols:\n",
    "    ## Replace \"\" with NaN\n",
    "    df[col] = df[col].replace('', 0)\n",
    "    df[col] = df[col].astype(float)"
   ]
  },
  {
   "cell_type": "code",
   "execution_count": 7,
   "metadata": {},
   "outputs": [
    {
     "name": "stdout",
     "output_type": "stream",
     "text": [
      "כ    0.996971\n",
      "ל    0.003029\n",
      "Name: zihui, dtype: float64\n"
     ]
    }
   ],
   "source": [
    "## Drop non identified id's\n",
    "print(df[\"zihui\"].value_counts(normalize=True))\n",
    "df = df.loc[(df[\"zihui\"] != \"ל\")]"
   ]
  },
  {
   "cell_type": "code",
   "execution_count": 8,
   "metadata": {},
   "outputs": [],
   "source": [
    "## Add a variable for mean monthly wage\n",
    "month_cols = [\"1\", \"2\", \"3\", \"4\", \"5\", \"6\", \"7\", \"8\", \"9\", \"10\", \"11\", \"12\"]\n",
    "df[\"month_worked\"] = df[month_cols].sum(axis=1)\n",
    "df[\"mean_wage\"] = (df[\"wage\"]/df[\"month_worked\"]).round(2)\n",
    "\n",
    "for col in month_cols:\n",
    "    df[col] = df[col]*df[\"mean_wage\"]\n",
    "\n",
    "    ## Group by year\n",
    "df = df.groupby([\"id\",\"year\"]).agg({\"wage\":\"sum\",\"1\": \"sum\",\"2\":\"sum\",\"3\":\"sum\",\"4\":\"sum\",\"5\":\"sum\",\"6\":\"sum\",\"7\":\"sum\",\"8\":\"sum\",\"9\":\"sum\",\"10\":\"sum\",\"11\":\"sum\",\"12\":\"sum\"}).reset_index()\n"
   ]
  },
  {
   "cell_type": "code",
   "execution_count": 9,
   "metadata": {},
   "outputs": [],
   "source": [
    "## Reshape the data to long format (every month is a row for each id)\n",
    "df = df.melt(id_vars=[\"id\",\"year\"], \n",
    "             value_vars=[\"1\", \"2\", \"3\", \"4\", \"5\", \"6\", \"7\", \"8\", \"9\", \"10\", \"11\", \"12\"], \n",
    "             var_name=\"month\", \n",
    "             value_name=\"wage_per_month\")"
   ]
  },
  {
   "cell_type": "code",
   "execution_count": 10,
   "metadata": {},
   "outputs": [],
   "source": [
    "df['date'] = pd.to_datetime(df['year'].astype(str) + '-' + df['month'], format='%Y-%m')\n",
    "df = df.drop(columns=[\"month\",\"year\"])"
   ]
  },
  {
   "cell_type": "code",
   "execution_count": 11,
   "metadata": {},
   "outputs": [],
   "source": [
    "df.to_csv(\"Output/BONUS_HASAM_202206235.csv\")"
   ]
  }
 ],
 "metadata": {
  "kernelspec": {
   "display_name": "base",
   "language": "python",
   "name": "python3"
  },
  "language_info": {
   "codemirror_mode": {
    "name": "ipython",
    "version": 3
   },
   "file_extension": ".py",
   "mimetype": "text/x-python",
   "name": "python",
   "nbconvert_exporter": "python",
   "pygments_lexer": "ipython3",
   "version": "3.8.8"
  },
  "orig_nbformat": 4,
  "vscode": {
   "interpreter": {
    "hash": "21285703334ff9ad0485a20549414d39509d302abdef938bdec846b879f92609"
   }
  }
 },
 "nbformat": 4,
 "nbformat_minor": 2
}
