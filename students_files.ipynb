{
 "cells": [
  {
   "cell_type": "code",
   "execution_count": 1,
   "metadata": {},
   "outputs": [],
   "source": [
    "import pandas as pd\n",
    "import numpy as np\n",
    "import glob"
   ]
  },
  {
   "cell_type": "code",
   "execution_count": 2,
   "metadata": {},
   "outputs": [
    {
     "name": "stderr",
     "output_type": "stream",
     "text": [
      "c:\\Users\\yoave\\Anaconda3\\lib\\site-packages\\openpyxl\\styles\\stylesheet.py:221: UserWarning: Workbook contains no default style, apply openpyxl's default\n",
      "  warn(\"Workbook contains no default style, apply openpyxl's default\")\n",
      "c:\\Users\\yoave\\Anaconda3\\lib\\site-packages\\openpyxl\\styles\\stylesheet.py:221: UserWarning: Workbook contains no default style, apply openpyxl's default\n",
      "  warn(\"Workbook contains no default style, apply openpyxl's default\")\n",
      "c:\\Users\\yoave\\Anaconda3\\lib\\site-packages\\openpyxl\\styles\\stylesheet.py:221: UserWarning: Workbook contains no default style, apply openpyxl's default\n",
      "  warn(\"Workbook contains no default style, apply openpyxl's default\")\n",
      "c:\\Users\\yoave\\Anaconda3\\lib\\site-packages\\openpyxl\\styles\\stylesheet.py:221: UserWarning: Workbook contains no default style, apply openpyxl's default\n",
      "  warn(\"Workbook contains no default style, apply openpyxl's default\")\n"
     ]
    }
   ],
   "source": [
    "## Merge students data files\n",
    "### Raw data \"students to lamas\" report from sapians\n",
    "\n",
    "path = r'Data/Students data/raw'\n",
    "students_files = glob.glob(path + \"/*.xlsx\")\n",
    "\n",
    "li = []\n",
    "for filename in students_files:\n",
    "    df = pd.read_excel(filename, index_col=None, header=0)\n",
    "    li.append(df)\n",
    "students = pd.concat(li, axis=0, ignore_index=True)"
   ]
  },
  {
   "cell_type": "code",
   "execution_count": 3,
   "metadata": {},
   "outputs": [],
   "source": [
    "### Clean data\n",
    "\n",
    "### Rename columns\n",
    "new_names = [\"id\",\"last_name\",\"first_name\",\"birth_date\",\"birth_year\",\"country_born\",\"aliya_year\",\"gender\",\"fam_status\",\"leom\",\"shnot_limud\",\"address\",\"yeshuv\",\"phone\",\"phone2\",\"father_name\",\"mosad_id\",\"mosad_name\",\"mahoz\",\"peula_id\",\"start_date_p\",\"end_date_p\",\"start_date\",\"end_date\",\"shaot_iun\",\"shot_maas\",\"student_status\",\"status_date\",\"maslul\",\"tehhum\",\"megama\",\"kvuza_id\",\"kita\",\"uhlusia\",\"vouchers\"]\n",
    "students.columns = new_names\n",
    "\n",
    "### Drop columns\n",
    "keep_cols = [\"id\",\"last_name\",\"first_name\",\"gender\",\"leom\",\"yeshuv\",\"mosad_id\",\"mosad_name\",\"peula_id\",\"start_date_p\",\"end_date_p\",\"start_date\",\"end_date\",\"student_status\",\"maslul\",\"megama\",\"kvuza_id\"]\n",
    "students = students[keep_cols]\n"
   ]
  },
  {
   "cell_type": "code",
   "execution_count": 4,
   "metadata": {},
   "outputs": [],
   "source": [
    "## Keep relevant maslulim\n",
    "### 5=shikum, 6=shabas , 13 = hashmal_mesuyag, 15 = OJT, [21,31,67] = hishtalmut, 34 = patuah , 33= yarok , 37= hashlamat haskala\n",
    "drop_maslulim = [5,6,13,15,21,31,67,34,33,37]\n",
    "students = students[~students['maslul'].isin(drop_maslulim)]\n",
    "\n",
    "## Keep relevant status\n",
    "drop_statusim = [\"                 עזב\",\"        בוגר - מסיים\",\"      עבר לקורס חדש\"]\n",
    "students = students[~students['student_status'].isin(drop_statusim)]\n"
   ]
  },
  {
   "cell_type": "code",
   "execution_count": 5,
   "metadata": {},
   "outputs": [],
   "source": [
    "## Date cols to pd.date\n",
    "students[\"end_date\"] = pd.to_datetime(students[\"end_date\"], format='%d/%m/%Y')\n",
    "students[\"end_year\"] = students[\"end_date\"].dt.year"
   ]
  },
  {
   "cell_type": "code",
   "execution_count": 6,
   "metadata": {},
   "outputs": [],
   "source": [
    "## Reshape Students Data\n",
    "df_s = (students.groupby([\"id\"])['end_date'].unique()\n",
    "                   .apply(pd.Series, 1))\n",
    "\n",
    "df_s.columns =  ['end_date_%s' % (x+1) for x in df_s.columns]"
   ]
  },
  {
   "cell_type": "code",
   "execution_count": 23,
   "metadata": {},
   "outputs": [],
   "source": [
    "df = pd.merge(students,df_s, on='id', how='left')"
   ]
  },
  {
   "cell_type": "code",
   "execution_count": 27,
   "metadata": {},
   "outputs": [],
   "source": [
    "## Keep only last end_date\n",
    "date_cols=[\"end_date\",\"end_date_1\",\"end_date_2\",\"end_date_3\",\"end_date_4\",\"end_date_5\",\"end_date_6\"]\n",
    "df[date_cols] = df[date_cols].apply(pd.to_datetime, format='%d/%m/%Y')\n",
    "\n",
    "df = df[[\"id\",\"end_date\",\"end_date_1\",\"end_date_2\",\"end_date_3\",\"end_date_4\",\"end_date_5\",\"end_date_6\"]]\n",
    "df = df.groupby([\"id\"]).agg({\"end_date\": \"max\", \"end_date_1\": \"max\", \"end_date_2\": \"max\", \"end_date_3\": \"max\", \"end_date_4\": \"max\", \"end_date_5\": \"max\", \"end_date_6\": \"max\"}).reset_index()\n"
   ]
  },
  {
   "cell_type": "code",
   "execution_count": 29,
   "metadata": {},
   "outputs": [],
   "source": [
    "df.to_csv(\"Data/Students data/students_processed.csv\", index=False)"
   ]
  }
 ],
 "metadata": {
  "kernelspec": {
   "display_name": "base",
   "language": "python",
   "name": "python3"
  },
  "language_info": {
   "codemirror_mode": {
    "name": "ipython",
    "version": 3
   },
   "file_extension": ".py",
   "mimetype": "text/x-python",
   "name": "python",
   "nbconvert_exporter": "python",
   "pygments_lexer": "ipython3",
   "version": "3.8.8"
  },
  "orig_nbformat": 4,
  "vscode": {
   "interpreter": {
    "hash": "21285703334ff9ad0485a20549414d39509d302abdef938bdec846b879f92609"
   }
  }
 },
 "nbformat": 4,
 "nbformat_minor": 2
}
